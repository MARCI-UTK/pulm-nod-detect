{
 "cells": [
  {
   "cell_type": "code",
   "execution_count": 53,
   "id": "05df0a4f-65b0-4041-9f0d-c6e7bca8a527",
   "metadata": {},
   "outputs": [],
   "source": [
    "import SimpleITK as sitk\n",
    "import matplotlib.pyplot as plt \n",
    "import pandas as pd \n",
    "import numpy as np\n",
    "from matplotlib.patches import Rectangle"
   ]
  },
  {
   "cell_type": "code",
   "execution_count": 54,
   "id": "43c91cfe-e852-46e9-93b1-5530c6cc027b",
   "metadata": {},
   "outputs": [],
   "source": [
    "img = sitk.ReadImage('../dataset/subset0/1.3.6.1.4.1.14519.5.2.1.6279.6001.108197895896446896160048741492.mhd')\n",
    "\n",
    "# The (x, y, z) point in physical space where the voxel (0, 0, 0) is located \n",
    "origin_point = img.GetOrigin()\n",
    "\n",
    "# The physical distance between each voxel coordinate \n",
    "# This is not consistent for the x and y directions but usually is for z \n",
    "spacing = img.GetSpacing()"
   ]
  },
  {
   "cell_type": "code",
   "execution_count": 55,
   "id": "d272efda-20c5-4088-ab32-54830a7c4e43",
   "metadata": {},
   "outputs": [],
   "source": [
    "def world_to_voxel(world_point: tuple, world_origin: tuple, spacing: tuple) -> tuple: \n",
    "    world_x, world_y, world_z       = world_point\n",
    "    origin_x, origin_y, origin_z    = world_origin\n",
    "    spacing_x, spacing_y, spacing_z = spacing\n",
    "\n",
    "    voxel_x = (world_x - origin_x) // spacing_x\n",
    "    voxel_y = (world_y - origin_y) // spacing_y\n",
    "    voxel_z = (world_z - origin_z) // spacing_z\n",
    "\n",
    "    voxel_point = (voxel_x, voxel_y, voxel_z)\n",
    "\n",
    "    return(voxel_point)"
   ]
  },
  {
   "cell_type": "code",
   "execution_count": 59,
   "id": "62f0a99b-c7ed-48a6-b9f9-ec96fe7d09ec",
   "metadata": {},
   "outputs": [],
   "source": [
    "def get_nodule_locations(scan_id: str, annotations: pd.DataFrame) -> list: \n",
    "    scan_annotations = annotations[annotations['seriesuid'] == scan_id]\n",
    "\n",
    "    locations = []\n",
    "    for idx, i in scan_annotations.iterrows(): \n",
    "        loc_i = (i['coordX'], i['coordY'], i['coordZ'])\n",
    "        locations.append(loc_i)\n",
    "\n",
    "    return(locations)"
   ]
  },
  {
   "cell_type": "code",
   "execution_count": 60,
   "id": "aee5957b-83e9-4455-8d31-09a799dac800",
   "metadata": {},
   "outputs": [
    {
     "name": "stdout",
     "output_type": "stream",
     "text": [
      "[(-100.5679445, 67.26051683, -231.816619)]\n"
     ]
    }
   ],
   "source": [
    "annotations = pd.read_csv('../dataset/annotations.csv')\n",
    "test_locations = get_nodule_locations(scan_id='1.3.6.1.4.1.14519.5.2.1.6279.6001.108197895896446896160048741492', annotations=annotations)\n",
    "print(test_locations)"
   ]
  },
  {
   "cell_type": "code",
   "execution_count": 61,
   "id": "384dcc2e-a210-4333-9466-1ea1e48b8767",
   "metadata": {},
   "outputs": [
    {
     "name": "stdout",
     "output_type": "stream",
     "text": [
      "(110.0, 346.0, 32.0)\n"
     ]
    }
   ],
   "source": [
    "test_coord = world_to_voxel(test_locations[0], origin_point, spacing)\n",
    "print(test_coord)"
   ]
  },
  {
   "cell_type": "code",
   "execution_count": null,
   "id": "bcddbd0e-ebf9-41d0-8d23-fa763cf09b97",
   "metadata": {},
   "outputs": [],
   "source": []
  }
 ],
 "metadata": {
  "kernelspec": {
   "display_name": "Python 3 (ipykernel)",
   "language": "python",
   "name": "python3"
  },
  "language_info": {
   "codemirror_mode": {
    "name": "ipython",
    "version": 3
   },
   "file_extension": ".py",
   "mimetype": "text/x-python",
   "name": "python",
   "nbconvert_exporter": "python",
   "pygments_lexer": "ipython3",
   "version": "3.11.7"
  }
 },
 "nbformat": 4,
 "nbformat_minor": 5
}
